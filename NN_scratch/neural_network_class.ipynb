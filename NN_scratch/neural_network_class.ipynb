{
 "cells": [
  {
   "cell_type": "code",
   "execution_count": 7,
   "metadata": {},
   "outputs": [],
   "source": [
    "import numpy as np\n",
    "import tensorflow as tf\n",
    "from tensorflow import keras\n",
    "import pandas as pd\n",
    "from matplotlib import pyplot as plt\n",
    "%matplotlib inline"
   ]
  },
  {
   "cell_type": "code",
   "execution_count": null,
   "metadata": {},
   "outputs": [],
   "source": [
    "df = pd.read_csv(\"insurance_data.csv\")\n",
    "df.head()\n"
   ]
  },
  {
   "cell_type": "code",
   "execution_count": 9,
   "metadata": {},
   "outputs": [],
   "source": [
    "from sklearn.model_selection import train_test_split\n",
    "X_train, X_test, y_train, y_test = train_test_split(df[['age','affordibility']],df.bought_insurance,test_size=0.1 ,random_state=25)   "
   ]
  },
  {
   "cell_type": "code",
   "execution_count": 10,
   "metadata": {},
   "outputs": [],
   "source": [
    "\n",
    "X_train_scaled = X_train.copy()\n",
    "X_train_scaled['age'] = X_train_scaled['age'] / 100\n",
    "\n",
    "X_test_scaled = X_test.copy()\n",
    "X_test_scaled['age'] = X_test_scaled['age'] / 100\n"
   ]
  },
  {
   "cell_type": "code",
   "execution_count": null,
   "metadata": {},
   "outputs": [],
   "source": [
    "model = keras.Sequential([\n",
    "    #explaination of the logic here: the input shape is 2 because we have 2 input features. The output is 1 because we have 1 output.\n",
    "    #The activation function is sigmoid because we are doing binary classification\n",
    "    keras.layers.Dense(1,input_shape= (2,),activation=\"sigmoid\",kernel_initializer=\"ones\", bias_initializer=\"zeros\")\n",
    "]\n",
    "\n",
    ")\n",
    "\n",
    "model.compile(optimizer=\"adam\",\n",
    "              loss=\"binary_crossentropy\",\n",
    "              metrics=[\"accuracy\"])\n",
    "\n",
    "model.fit(X_train_scaled,y_train,epochs=50)\n",
    "\n"
   ]
  },
  {
   "cell_type": "code",
   "execution_count": null,
   "metadata": {},
   "outputs": [],
   "source": [
    "model.evaluate(X_test_scaled,y_test)\n"
   ]
  },
  {
   "cell_type": "code",
   "execution_count": null,
   "metadata": {},
   "outputs": [],
   "source": [
    "coef , intercept =  model.get_weights()\n",
    "coef, intercept"
   ]
  },
  {
   "cell_type": "code",
   "execution_count": null,
   "metadata": {},
   "outputs": [],
   "source": [
    "model.predict(X_test_scaled)"
   ]
  },
  {
   "cell_type": "code",
   "execution_count": 15,
   "metadata": {},
   "outputs": [],
   "source": [
    "def sigmoid(x):\n",
    "    import math\n",
    "    return 1/ (1+math.exp(-x))\n"
   ]
  },
  {
   "cell_type": "code",
   "execution_count": 16,
   "metadata": {},
   "outputs": [],
   "source": [
    "def prediction_fonction(age,affordability):\n",
    "    weighted_sum = coef[0]*age + coef[1]*affordability + intercept\n",
    "    return sigmoid(weighted_sum)"
   ]
  },
  {
   "cell_type": "code",
   "execution_count": 17,
   "metadata": {},
   "outputs": [],
   "source": [
    "def log_loss(y_true,y_predicted):\n",
    "    epsilon = 1e-15\n",
    "    y_predicted_new = [max(i,epsilon) for i in y_predicted]\n",
    "    y_predicted_new = [min(i,1-epsilon) for i in y_predicted_new]\n",
    "    y_predicted_new = np.array(y_predicted_new)\n",
    "    return -np.mean(y_true*np.log(y_predicted_new)+(1-y_true)*np.log(1-y_predicted_new))"
   ]
  },
  {
   "cell_type": "code",
   "execution_count": 18,
   "metadata": {},
   "outputs": [],
   "source": [
    "def sigmoid_numpy(X):\n",
    "    return 1/(1+np.exp(-X))\n",
    "\n",
    "#takes an array as argument"
   ]
  },
  {
   "cell_type": "code",
   "execution_count": 19,
   "metadata": {},
   "outputs": [],
   "source": [
    "class myNN:\n",
    "    def __init__(self): #constroctur\n",
    "         self.w1 = 1\n",
    "         self.w2 = 1\n",
    "         self.b = 0\n",
    "    \n",
    "    def fit(self,x,y,epochs,loss_thresold):\n",
    "        self.w1, self.w2, self.b = self.gradient_descent(x['age'],x['affordibility'],y,epochs,loss_thresold)\n",
    "\n",
    "    def predict(self,x_test):\n",
    "        weighted_sum =  self.w1 * x_test['age']+ self.w2* x_test['affordibility'] + self.b\n",
    "        return  sigmoid_numpy(weighted_sum) \n",
    "    \n",
    "    def gradient_descent(self,age,affordability,y_true,epochs,loss_threshold):\n",
    "            w1=w2=1\n",
    "            b = 0\n",
    "            rate = 0.5\n",
    "            n = len(age)\n",
    "            \n",
    "            for i in range(epochs):\n",
    "                weightend_sum = w1 * age + w2 * affordability + b \n",
    "                y_predicted = sigmoid_numpy(weightend_sum)\n",
    "                loss = log_loss(y_true,y_predicted)\n",
    "\n",
    "                # w = w - learning rate * derivative of the loss function\n",
    "            \n",
    "                w1d = (1/n) * np.dot(np.transpose(age),(y_predicted-y_true))    \n",
    "                w2d = (1/n) * np.dot(np.transpose(affordability),(y_predicted-y_true))    \n",
    "\n",
    "                bd = np.mean(y_predicted-y_true)\n",
    "\n",
    "                w1 = w1 - rate * w1d\n",
    "                w2= w2 - rate* w2d\n",
    "\n",
    "                b = b - rate * bd\n",
    "                \n",
    "\n",
    "                if(loss<=loss_threshold):#if the loss is less than the threshold, we stop the loop\n",
    "                    break\n",
    "            \n",
    "            return w1,w2,b #output is a tuple"
   ]
  },
  {
   "cell_type": "code",
   "execution_count": 20,
   "metadata": {},
   "outputs": [],
   "source": [
    "# NEURAL NETWORK CLASS\n",
    "customModel = myNN()\n",
    "customModel.fit(X_train_scaled,y_train,epochs=1000,loss_thresold = 0.45)"
   ]
  },
  {
   "cell_type": "code",
   "execution_count": null,
   "metadata": {},
   "outputs": [],
   "source": [
    "customModel.predict(X_test_scaled)"
   ]
  },
  {
   "cell_type": "code",
   "execution_count": null,
   "metadata": {},
   "outputs": [],
   "source": [
    "model.predict(X_test_scaled)"
   ]
  },
  {
   "cell_type": "code",
   "execution_count": null,
   "metadata": {},
   "outputs": [],
   "source": []
  }
 ],
 "metadata": {
  "kernelspec": {
   "display_name": "Python 3",
   "language": "python",
   "name": "python3"
  },
  "language_info": {
   "codemirror_mode": {
    "name": "ipython",
    "version": 3
   },
   "file_extension": ".py",
   "mimetype": "text/x-python",
   "name": "python",
   "nbconvert_exporter": "python",
   "pygments_lexer": "ipython3",
   "version": "3.12.3"
  }
 },
 "nbformat": 4,
 "nbformat_minor": 2
}
